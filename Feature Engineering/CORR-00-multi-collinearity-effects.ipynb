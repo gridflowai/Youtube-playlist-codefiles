{
 "cells": [
  {
   "cell_type": "markdown",
   "metadata": {},
   "source": [
    "------------------------\n",
    "#### Multi collinearity\n",
    "- effect of multi-collinearity on ML models\n",
    "----------------------------"
   ]
  },
  {
   "cell_type": "code",
   "execution_count": 59,
   "metadata": {
    "tags": []
   },
   "outputs": [],
   "source": [
    "import pandas as pd\n",
    "import numpy as np\n",
    "np.set_printoptions(precision=3, suppress=True)\n",
    "\n",
    "# for checking multi-collinearity, using eigen decomposition\n",
    "from numpy.linalg import inv\n",
    "import scipy \n",
    "import scipy.linalg as la\n",
    "\n",
    "# for checking multi-collinearity, using VIF\n",
    "from statsmodels.stats.outliers_influence import variance_inflation_factor\n",
    "from statsmodels.tools.tools import add_constant\n",
    "\n",
    "# for checking multi-collinearity, using condition number\n",
    "from numpy.linalg import cond\n",
    "\n",
    "# import the ML algorithm\n",
    "from sklearn.linear_model import LinearRegression"
   ]
  },
  {
   "cell_type": "markdown",
   "metadata": {},
   "source": [
    "#### simulate a dataset"
   ]
  },
  {
   "cell_type": "code",
   "execution_count": 27,
   "metadata": {
    "tags": []
   },
   "outputs": [],
   "source": [
    "# generate some random data\n",
    "np.random.seed(seed=100)\n",
    "\n",
    "X = np.random.randint(1,   50,  size=(10, 4))\n",
    "y = np.random.uniform(100, 200, size=10)"
   ]
  },
  {
   "cell_type": "code",
   "execution_count": 3,
   "metadata": {
    "tags": []
   },
   "outputs": [
    {
     "data": {
      "text/plain": [
       "(array([[ 9, 25,  4, 40],\n",
       "        [24, 16, 49, 11],\n",
       "        [31, 35,  3, 35],\n",
       "        [15, 35, 49, 25],\n",
       "        [16, 37, 44, 17],\n",
       "        [10, 30, 23,  3],\n",
       "        [28, 45,  5, 32],\n",
       "        [ 2, 14, 20, 37],\n",
       "        [ 5, 28,  4,  8],\n",
       "        [48,  2, 15,  8]]),\n",
       " array([117.862, 153.257, 164.669, 114.207, 158.139, 147.919, 138.642,\n",
       "        144.046, 140.476, 144.225]))"
      ]
     },
     "execution_count": 3,
     "metadata": {},
     "output_type": "execute_result"
    }
   ],
   "source": [
    "X, y"
   ]
  },
  {
   "cell_type": "markdown",
   "metadata": {},
   "source": [
    "#### correlations"
   ]
  },
  {
   "cell_type": "code",
   "execution_count": 4,
   "metadata": {
    "tags": []
   },
   "outputs": [
    {
     "data": {
      "text/plain": [
       "array([[ 1.   , -0.237, -0.069, -0.16 ],\n",
       "       [-0.237,  1.   , -0.044,  0.267],\n",
       "       [-0.069, -0.044,  1.   , -0.322],\n",
       "       [-0.16 ,  0.267, -0.322,  1.   ]])"
      ]
     },
     "execution_count": 4,
     "metadata": {},
     "output_type": "execute_result"
    }
   ],
   "source": [
    "np.corrcoef(X, rowvar=False)"
   ]
  },
  {
   "cell_type": "markdown",
   "metadata": {},
   "source": [
    "#### check for multi-collinearity"
   ]
  },
  {
   "cell_type": "markdown",
   "metadata": {},
   "source": [
    "**using eigen method**"
   ]
  },
  {
   "cell_type": "code",
   "execution_count": 14,
   "metadata": {
    "tags": []
   },
   "outputs": [],
   "source": [
    "def check_mc_eigen(X):\n",
    "    \n",
    "    corr = np.corrcoef(X, rowvar=False)\n",
    "    \n",
    "    # check the multi collinearity\n",
    "    eigvals, eigvecs = la.eig(corr)\n",
    "    eigvals = eigvals.real\n",
    "\n",
    "    # print(eigvals)\n",
    "    # print(eigvecs)\n",
    "    \n",
    "    return eigvals, eigvecs"
   ]
  },
  {
   "cell_type": "code",
   "execution_count": 15,
   "metadata": {
    "tags": []
   },
   "outputs": [
    {
     "data": {
      "text/plain": [
       "(array([1.52 , 1.148, 0.741, 0.591]),\n",
       " array([[ 0.39 , -0.602,  0.661,  0.218],\n",
       "        [-0.538,  0.336,  0.718, -0.286],\n",
       "        [ 0.39 ,  0.685,  0.203,  0.581],\n",
       "        [-0.638, -0.234, -0.077,  0.73 ]]))"
      ]
     },
     "execution_count": 15,
     "metadata": {},
     "output_type": "execute_result"
    }
   ],
   "source": [
    "check_mc_eigen(X)"
   ]
  },
  {
   "cell_type": "markdown",
   "metadata": {
    "tags": []
   },
   "source": [
    "**Inference :**\n",
    "\n",
    "- If there is perfect multicollinearity (i.e., one variable can be expressed as a linear combination of others), the covariance matrix becomes singular, resulting in at least one eigenvalue equal to 0.\n",
    "- Small but non-zero eigenvalues indicate the presence of multicollinearity to some extent."
   ]
  },
  {
   "cell_type": "markdown",
   "metadata": {},
   "source": [
    "there seems to __no multi-collinearity__, as there no eigen value = 0"
   ]
  },
  {
   "cell_type": "markdown",
   "metadata": {},
   "source": [
    "**using VIF method**"
   ]
  },
  {
   "cell_type": "code",
   "execution_count": 26,
   "metadata": {
    "tags": []
   },
   "outputs": [],
   "source": [
    "# VIF = 1: No Multicollinearity\n",
    "# A VIF value of 1 indicates no multicollinearity. \n",
    "# It implies that the variance of the estimated regression coefficient \n",
    "# for the corresponding predictor variable is not inflated due to correlations with \n",
    "# other predictors.\n",
    "\n",
    "# VIF between 1 and 5: Moderate Multicollinearity\n",
    "# VIF values between 1 and 5 are generally considered acceptable and suggest moderate \n",
    "# multicollinearity. While there may be some correlation among predictors, \n",
    "# it is not severe enough to cause significant issues in the interpretation of coefficients.\n",
    "\n",
    "# VIF > 5: High Multicollinearity\n",
    "# VIF values exceeding 5 are often indicative of high multicollinearity. \n",
    "# This suggests that the variance of the estimated regression coefficient is \n",
    "# significantly inflated, and interpretation of individual coefficients becomes challenging.\n",
    "\n",
    "def check_mc_vif(X):\n",
    "    # Add a constant to the array for intercept term\n",
    "    # X_with_const = add_constant(X)\n",
    "\n",
    "    # Calculate VIF for each variable\n",
    "    vif_data = np.array([variance_inflation_factor(X, i) for i in range(X.shape[1])])\n",
    "\n",
    "    # Display the variables and their corresponding VIF values\n",
    "    for i, vif_value in enumerate(vif_data):\n",
    "        print(f\"Variable {i}: VIF = {vif_value}\")"
   ]
  },
  {
   "cell_type": "code",
   "execution_count": 28,
   "metadata": {
    "tags": []
   },
   "outputs": [
    {
     "name": "stdout",
     "output_type": "stream",
     "text": [
      "Variable 0: VIF = 2.0991502211171804\n",
      "Variable 1: VIF = 4.544095986572352\n",
      "Variable 2: VIF = 2.0295209337525284\n",
      "Variable 3: VIF = 3.4730813003534053\n"
     ]
    }
   ],
   "source": [
    "check_mc_vif(X)"
   ]
  },
  {
   "cell_type": "markdown",
   "metadata": {},
   "source": [
    "**using condition number**"
   ]
  },
  {
   "cell_type": "code",
   "execution_count": 32,
   "metadata": {
    "tags": []
   },
   "outputs": [
    {
     "name": "stdout",
     "output_type": "stream",
     "text": [
      "Condition Number: 4.473138245285738\n"
     ]
    }
   ],
   "source": [
    "# Interpreting the condition number:\n",
    "\n",
    "# A condition number close to 1 indicates little to no multicollinearity.\n",
    "# As the condition number increases, the severity of multicollinearity also increases.\n",
    "# A common rule of thumb is that a condition number above 30 may indicate moderate to \n",
    "# high multicollinearity, and above 100 suggests a severe issue.\n",
    "\n",
    "# Calculate the condition number\n",
    "condition_number = cond(X)\n",
    "print(f\"Condition Number: {condition_number}\")"
   ]
  },
  {
   "cell_type": "markdown",
   "metadata": {},
   "source": [
    "#### compute the beta coefficients"
   ]
  },
  {
   "cell_type": "markdown",
   "metadata": {},
   "source": [
    "$$\n",
    "β = ({X}^\\top X)^{-1} ({X}^\\top y )\n",
    "$$"
   ]
  },
  {
   "cell_type": "code",
   "execution_count": 33,
   "metadata": {
    "tags": []
   },
   "outputs": [
    {
     "data": {
      "text/plain": [
       "array([1.977, 1.848, 1.018, 1.145])"
      ]
     },
     "execution_count": 33,
     "metadata": {},
     "output_type": "execute_result"
    }
   ],
   "source": [
    "# calculate the coefficients\n",
    "part1       = inv(np.dot(X.T, X))\n",
    "part2       = np.dot(X.T, y)\n",
    "\n",
    "beta_coeffs = np.dot(part1, part2)\n",
    "beta_coeffs"
   ]
  },
  {
   "cell_type": "code",
   "execution_count": 34,
   "metadata": {
    "tags": []
   },
   "outputs": [
    {
     "name": "stdout",
     "output_type": "stream",
     "text": [
      "0.0\n",
      "[1.977 1.848 1.018 1.145]\n"
     ]
    }
   ],
   "source": [
    "# instantiate\n",
    "linreg = LinearRegression(fit_intercept=False)\n",
    "\n",
    "# fit the model to the training data (learn the coefficients)\n",
    "linreg.fit(X, y)\n",
    "\n",
    "# print the coefficients\n",
    "print(linreg.intercept_)\n",
    "print(linreg.coef_)"
   ]
  },
  {
   "cell_type": "markdown",
   "metadata": {},
   "source": [
    "#### Scenario 1 \n",
    "- 2 cols collinear\n",
    "- add 1 additional col, similar to an existing one"
   ]
  },
  {
   "cell_type": "code",
   "execution_count": 35,
   "metadata": {
    "tags": []
   },
   "outputs": [],
   "source": [
    "# original columns\n",
    "df = pd.DataFrame(X, columns=['c0', 'c1', 'c2', 'c3'])\n",
    "\n",
    "# white noise (for the new similar column)\n",
    "noise = np.random.randn(10)\n",
    "\n",
    "df['c4'] = 2 * df['c1'] + .5 * noise  + 3\n",
    "\n",
    "X_new = df.values"
   ]
  },
  {
   "cell_type": "code",
   "execution_count": 38,
   "metadata": {
    "tags": []
   },
   "outputs": [
    {
     "data": {
      "text/plain": [
       "(array([2.244, 1.231, 0.923, 0.602, 0.   ]),\n",
       " array([[-0.274,  0.192, -0.885, -0.323, -0.004],\n",
       "        [ 0.635, -0.168, -0.251,  0.058, -0.709],\n",
       "        [-0.113, -0.772,  0.093, -0.619, -0.002],\n",
       "        [ 0.33 ,  0.556,  0.278, -0.711,  0.007],\n",
       "        [ 0.632, -0.176, -0.26 ,  0.062,  0.706]]))"
      ]
     },
     "execution_count": 38,
     "metadata": {},
     "output_type": "execute_result"
    }
   ],
   "source": [
    "check_mc_eigen(X_new)"
   ]
  },
  {
   "cell_type": "code",
   "execution_count": 39,
   "metadata": {
    "tags": []
   },
   "outputs": [
    {
     "name": "stdout",
     "output_type": "stream",
     "text": [
      "Variable 0: VIF = 3.8440103506103886\n",
      "Variable 1: VIF = 5613.533089201047\n",
      "Variable 2: VIF = 2.9128241789954257\n",
      "Variable 3: VIF = 3.6082865443128345\n",
      "Variable 4: VIF = 5893.212562059288\n"
     ]
    }
   ],
   "source": [
    "check_mc_vif(X_new)"
   ]
  },
  {
   "cell_type": "code",
   "execution_count": 40,
   "metadata": {
    "tags": []
   },
   "outputs": [
    {
     "name": "stdout",
     "output_type": "stream",
     "text": [
      "Condition Number: 216.3459353186385\n"
     ]
    }
   ],
   "source": [
    "# Calculate the condition number\n",
    "condition_number = cond(X_new)\n",
    "print(f\"Condition Number: {condition_number}\")"
   ]
  },
  {
   "cell_type": "markdown",
   "metadata": {},
   "source": [
    "**Observation**\n",
    "1. the eigen value e4 = 0\n",
    "2. look for the eigen vector of e4 and look for non-zero eigen co-ordinate\n",
    "    - in this case c1 = [-0.709] and c4 =[ 0.706] are collinear"
   ]
  },
  {
   "cell_type": "code",
   "execution_count": 41,
   "metadata": {
    "tags": []
   },
   "outputs": [
    {
     "data": {
      "text/plain": [
       "array([ -0.149, -92.862,  -0.219,   0.605,  46.355])"
      ]
     },
     "execution_count": 41,
     "metadata": {},
     "output_type": "execute_result"
    }
   ],
   "source": [
    "# calculate the coefficients\n",
    "part1       = inv(np.dot(X_new.T, X_new))\n",
    "part2       = np.dot(X_new.T, y)\n",
    "\n",
    "beta_coeffs = np.dot(part1, part2)\n",
    "beta_coeffs"
   ]
  },
  {
   "cell_type": "code",
   "execution_count": 42,
   "metadata": {
    "tags": []
   },
   "outputs": [
    {
     "name": "stdout",
     "output_type": "stream",
     "text": [
      "0.0\n",
      "[ -0.149 -92.862  -0.219   0.605  46.355]\n"
     ]
    }
   ],
   "source": [
    "# instantiate\n",
    "linreg = LinearRegression(fit_intercept=False)\n",
    "\n",
    "# fit the model to the training data (learn the coefficients)\n",
    "linreg.fit(X_new, y)\n",
    "\n",
    "# print the coefficients\n",
    "print(linreg.intercept_)\n",
    "print(linreg.coef_)"
   ]
  },
  {
   "cell_type": "markdown",
   "metadata": {},
   "source": [
    "With NO multi-collinearity the coeff were:- [1.977 1.848 1.018 1.145]\n",
    "\n",
    "1. the coefficients have gone up \n",
    "2. Even the directions have changed in some cases"
   ]
  },
  {
   "cell_type": "markdown",
   "metadata": {},
   "source": [
    "#### Scenario 2 \n",
    "- 2 cols collinear\n",
    "- add 1 additional col, similar to a couple of existing ones"
   ]
  },
  {
   "cell_type": "code",
   "execution_count": 43,
   "metadata": {
    "tags": []
   },
   "outputs": [],
   "source": [
    "df = pd.DataFrame(X, columns=['c0', 'c1', 'c2', 'c3'])\n",
    "\n",
    "# white noise\n",
    "noise = np.random.randn(10)\n",
    "\n",
    "df['c4'] = 2 * df['c0'] + df['c3'] + .5 * noise \n",
    "\n",
    "X_new = df.values"
   ]
  },
  {
   "cell_type": "code",
   "execution_count": 44,
   "metadata": {
    "tags": []
   },
   "outputs": [
    {
     "data": {
      "text/plain": [
       "(array([1.998, 0.   , 1.512, 0.859, 0.631]),\n",
       " array([[ 0.646, -0.656, -0.26 , -0.208, -0.201],\n",
       "        [-0.175, -0.   ,  0.5  , -0.684, -0.502],\n",
       "        [-0.236,  0.002, -0.466, -0.669,  0.529],\n",
       "        [ 0.144, -0.321,  0.678, -0.014,  0.645],\n",
       "        [ 0.689,  0.683,  0.07 , -0.204,  0.108]]))"
      ]
     },
     "execution_count": 44,
     "metadata": {},
     "output_type": "execute_result"
    }
   ],
   "source": [
    "check_mc_eigen(X_new)"
   ]
  },
  {
   "cell_type": "code",
   "execution_count": 45,
   "metadata": {
    "tags": []
   },
   "outputs": [
    {
     "name": "stdout",
     "output_type": "stream",
     "text": [
      "Variable 0: VIF = 12018.28726658413\n",
      "Variable 1: VIF = 4.549986975786913\n",
      "Variable 2: VIF = 2.110439837242003\n",
      "Variable 3: VIF = 3566.340020854799\n",
      "Variable 4: VIF = 24030.544844701042\n"
     ]
    }
   ],
   "source": [
    "check_mc_vif(X_new)"
   ]
  },
  {
   "cell_type": "code",
   "execution_count": 46,
   "metadata": {
    "tags": []
   },
   "outputs": [
    {
     "name": "stdout",
     "output_type": "stream",
     "text": [
      "Condition Number: 457.4689400464041\n"
     ]
    }
   ],
   "source": [
    "# Calculate the condition number\n",
    "condition_number = cond(X_new)\n",
    "print(f\"Condition Number: {condition_number}\")"
   ]
  },
  {
   "cell_type": "code",
   "execution_count": 47,
   "metadata": {
    "tags": []
   },
   "outputs": [
    {
     "data": {
      "text/plain": [
       "array([-2.357,  1.845,  1.027, -1.008,  2.159])"
      ]
     },
     "execution_count": 47,
     "metadata": {},
     "output_type": "execute_result"
    }
   ],
   "source": [
    "# calculate the coefficients\n",
    "part1       = inv(np.dot(X_new.T, X_new))\n",
    "part2       = np.dot(X_new.T, y)\n",
    "\n",
    "beta_coeffs = np.dot(part1, part2)\n",
    "beta_coeffs"
   ]
  },
  {
   "cell_type": "code",
   "execution_count": 48,
   "metadata": {
    "tags": []
   },
   "outputs": [
    {
     "name": "stdout",
     "output_type": "stream",
     "text": [
      "0.0\n",
      "[-2.357  1.845  1.027 -1.008  2.159]\n"
     ]
    }
   ],
   "source": [
    "# instantiate\n",
    "linreg = LinearRegression(fit_intercept=False)\n",
    "\n",
    "# fit the model to the training data (learn the coefficients)\n",
    "linreg.fit(X_new, y)\n",
    "\n",
    "# print the coefficients\n",
    "print(linreg.intercept_)\n",
    "print(linreg.coef_)"
   ]
  },
  {
   "cell_type": "markdown",
   "metadata": {},
   "source": [
    "[  0.451 -71.213   0.352   0.141  35.854]"
   ]
  },
  {
   "cell_type": "markdown",
   "metadata": {},
   "source": [
    "#### Scenario 3 \n",
    "- 2 cols perfectly collinear\n",
    "- add 1 additional col, factor of an existing one"
   ]
  },
  {
   "cell_type": "code",
   "execution_count": 53,
   "metadata": {
    "tags": []
   },
   "outputs": [],
   "source": [
    "df = pd.DataFrame(X, columns=['c0', 'c1', 'c2', 'c3'])\n",
    "\n",
    "# white noise\n",
    "noise = np.random.randn(10)\n",
    "\n",
    "df['c4'] = df['c0'] * 2 \n",
    "\n",
    "X_new = df.values"
   ]
  },
  {
   "cell_type": "code",
   "execution_count": 54,
   "metadata": {
    "tags": []
   },
   "outputs": [
    {
     "data": {
      "text/plain": [
       "(array([2.177, 0.   , 1.364, 0.861, 0.598]),\n",
       " array([[-0.647,  0.707,  0.194, -0.202, -0.05 ],\n",
       "        [ 0.317, -0.   ,  0.289, -0.826,  0.366],\n",
       "        [-0.004, -0.   , -0.666, -0.486, -0.566],\n",
       "        [ 0.249,  0.   ,  0.63 , -0.009, -0.736],\n",
       "        [-0.647, -0.707,  0.194, -0.202, -0.05 ]]))"
      ]
     },
     "execution_count": 54,
     "metadata": {},
     "output_type": "execute_result"
    }
   ],
   "source": [
    "check_mc_eigen(X_new)"
   ]
  },
  {
   "cell_type": "code",
   "execution_count": 51,
   "metadata": {
    "tags": []
   },
   "outputs": [
    {
     "name": "stdout",
     "output_type": "stream",
     "text": [
      "Variable 0: VIF = inf\n",
      "Variable 1: VIF = 4.544095986572352\n",
      "Variable 2: VIF = 2.0295209337525275\n",
      "Variable 3: VIF = 3.4730813003534053\n",
      "Variable 4: VIF = inf\n"
     ]
    },
    {
     "name": "stderr",
     "output_type": "stream",
     "text": [
      "D:\\ANACONDA\\Lib\\site-packages\\statsmodels\\stats\\outliers_influence.py:198: RuntimeWarning: divide by zero encountered in scalar divide\n",
      "  vif = 1. / (1. - r_squared_i)\n"
     ]
    }
   ],
   "source": [
    "check_mc_vif(X_new)"
   ]
  },
  {
   "cell_type": "code",
   "execution_count": 52,
   "metadata": {
    "tags": []
   },
   "outputs": [
    {
     "name": "stdout",
     "output_type": "stream",
     "text": [
      "Condition Number: 2.5392895405253064e+16\n"
     ]
    }
   ],
   "source": [
    "# Calculate the condition number\n",
    "condition_number = cond(X_new)\n",
    "print(f\"Condition Number: {condition_number}\")"
   ]
  },
  {
   "cell_type": "code",
   "execution_count": 58,
   "metadata": {
    "tags": []
   },
   "outputs": [
    {
     "ename": "LinAlgError",
     "evalue": "Singular matrix",
     "output_type": "error",
     "traceback": [
      "\u001b[1;31m---------------------------------------------------------------------------\u001b[0m",
      "\u001b[1;31mLinAlgError\u001b[0m                               Traceback (most recent call last)",
      "Cell \u001b[1;32mIn[58], line 2\u001b[0m\n\u001b[0;32m      1\u001b[0m \u001b[38;5;66;03m# calculate the coefficients\u001b[39;00m\n\u001b[1;32m----> 2\u001b[0m part1       \u001b[38;5;241m=\u001b[39m inv(np\u001b[38;5;241m.\u001b[39mdot(X_new\u001b[38;5;241m.\u001b[39mT, X_new))\n\u001b[0;32m      3\u001b[0m part2       \u001b[38;5;241m=\u001b[39m np\u001b[38;5;241m.\u001b[39mdot(X_new\u001b[38;5;241m.\u001b[39mT, y)\n\u001b[0;32m      5\u001b[0m beta_coeffs \u001b[38;5;241m=\u001b[39m np\u001b[38;5;241m.\u001b[39mdot(part1, part2)\n",
      "File \u001b[1;32m<__array_function__ internals>:200\u001b[0m, in \u001b[0;36minv\u001b[1;34m(*args, **kwargs)\u001b[0m\n",
      "File \u001b[1;32mD:\\ANACONDA\\Lib\\site-packages\\numpy\\linalg\\linalg.py:538\u001b[0m, in \u001b[0;36minv\u001b[1;34m(a)\u001b[0m\n\u001b[0;32m    536\u001b[0m signature \u001b[38;5;241m=\u001b[39m \u001b[38;5;124m'\u001b[39m\u001b[38;5;124mD->D\u001b[39m\u001b[38;5;124m'\u001b[39m \u001b[38;5;28;01mif\u001b[39;00m isComplexType(t) \u001b[38;5;28;01melse\u001b[39;00m \u001b[38;5;124m'\u001b[39m\u001b[38;5;124md->d\u001b[39m\u001b[38;5;124m'\u001b[39m\n\u001b[0;32m    537\u001b[0m extobj \u001b[38;5;241m=\u001b[39m get_linalg_error_extobj(_raise_linalgerror_singular)\n\u001b[1;32m--> 538\u001b[0m ainv \u001b[38;5;241m=\u001b[39m _umath_linalg\u001b[38;5;241m.\u001b[39minv(a, signature\u001b[38;5;241m=\u001b[39msignature, extobj\u001b[38;5;241m=\u001b[39mextobj)\n\u001b[0;32m    539\u001b[0m \u001b[38;5;28;01mreturn\u001b[39;00m wrap(ainv\u001b[38;5;241m.\u001b[39mastype(result_t, copy\u001b[38;5;241m=\u001b[39m\u001b[38;5;28;01mFalse\u001b[39;00m))\n",
      "File \u001b[1;32mD:\\ANACONDA\\Lib\\site-packages\\numpy\\linalg\\linalg.py:89\u001b[0m, in \u001b[0;36m_raise_linalgerror_singular\u001b[1;34m(err, flag)\u001b[0m\n\u001b[0;32m     88\u001b[0m \u001b[38;5;28;01mdef\u001b[39;00m \u001b[38;5;21m_raise_linalgerror_singular\u001b[39m(err, flag):\n\u001b[1;32m---> 89\u001b[0m     \u001b[38;5;28;01mraise\u001b[39;00m LinAlgError(\u001b[38;5;124m\"\u001b[39m\u001b[38;5;124mSingular matrix\u001b[39m\u001b[38;5;124m\"\u001b[39m)\n",
      "\u001b[1;31mLinAlgError\u001b[0m: Singular matrix"
     ]
    }
   ],
   "source": [
    "# calculate the coefficients\n",
    "part1       = inv(np.dot(X_new.T, X_new))\n",
    "part2       = np.dot(X_new.T, y)\n",
    "\n",
    "beta_coeffs = np.dot(part1, part2)\n",
    "beta_coeffs"
   ]
  },
  {
   "cell_type": "markdown",
   "metadata": {},
   "source": [
    "To address perfect multicollinearity, consider the following strategies:\n",
    "\n",
    "- Remove Redundant Variables:\n",
    "\n",
    "    - Identify and remove one or more variables that are linearly dependent on others.\n",
    "- Combine Variables:\n",
    "\n",
    "    - If possible, combine highly correlated variables into a single variable.\n",
    "- Collect More Data:\n",
    "\n",
    "    - Increasing the sample size may help mitigate multicollinearity."
   ]
  },
  {
   "cell_type": "code",
   "execution_count": null,
   "metadata": {},
   "outputs": [],
   "source": []
  }
 ],
 "metadata": {
  "kernelspec": {
   "display_name": "Python 3 (ipykernel)",
   "language": "python",
   "name": "python3"
  },
  "language_info": {
   "codemirror_mode": {
    "name": "ipython",
    "version": 3
   },
   "file_extension": ".py",
   "mimetype": "text/x-python",
   "name": "python",
   "nbconvert_exporter": "python",
   "pygments_lexer": "ipython3",
   "version": "3.11.5"
  }
 },
 "nbformat": 4,
 "nbformat_minor": 4
}
